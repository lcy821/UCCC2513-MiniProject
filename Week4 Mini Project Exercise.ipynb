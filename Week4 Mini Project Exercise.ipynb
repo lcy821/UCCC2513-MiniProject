{
 "cells": [
  {
   "cell_type": "markdown",
   "id": "9f385d2b-a71a-453f-916f-8ae8e95d919b",
   "metadata": {},
   "source": [
    "1. Create a random noise color and grayscale image. You can set your own width and height, but keep the total number of pixels of both images identical."
   ]
  },
  {
   "cell_type": "code",
   "execution_count": 19,
   "id": "6754274f-a03e-4176-81bd-f8c6e3bd1b45",
   "metadata": {},
   "outputs": [
    {
     "data": {
      "image/png": "[encoded data removed]",
      "text/plain": [
       "<Figure size 1200x600 with 2 Axes>"
      ]
     },
     "metadata": {},
     "output_type": "display_data"
    }
   ],
   "source": [
    "import numpy as np\n",
    "import matplotlib.pyplot as plt\n",
    "\n",
    "height = 16\n",
    "width = 16\n",
    "\n",
    "random_noise = np.random.randint(0,256,(height, width, 3), dtype=np.uint8)\n",
    "\n",
    "grayscale = np.arange(0,256,dtype=np.uint8).reshape((width,height))\n",
    "\n",
    "plt.figure(figsize=(12,6))\n",
    "\n",
    "plt.subplot(1,2,1)\n",
    "plt.imshow(random_noise)\n",
    "\n",
    "plt.subplot(1,2,2)\n",
    "plt.imshow(grayscale, cmap=\"gray\", vmin=0, vmax=255)\n",
    "\n",
    "plt.show()"
   ]
  },
  {
   "cell_type": "markdown",
   "id": "4045b2bb-9687-43a6-bc16-0e6cb2692643",
   "metadata": {},
   "source": [
    "2. Convert the code chunk found under section Divide an image into smaller patches using cropping into a function with the following signature:\n",
    "crop_grid(img, num_horizontal_grid, num_vertical_grid, line_color)\n",
    " * img is the source image\n",
    " * num_horizontal_grid and num_vertical_grid are the number of patches along x and y axes.\n",
    " * line_color is the color of the grid line.\n",
    " * The output of the function should be image with grids"
   ]
  },
  {
   "cell_type": "code",
   "execution_count": 37,
   "id": "7341aa56-d6df-4168-8e70-b9ad68a2658a",
   "metadata": {},
   "outputs": [],
   "source": [
    "from utils import display_images\n",
    "\n",
    "def crop_grid(img, num_horizontal_grid, num_vertical_grid, line_color): \n",
    "    image = cv.imread(img)\n",
    "    img_copy = image.copy()\n",
    "\n",
    "    #color\n",
    "    if line_color == \"green\":\n",
    "        line_color = (0,255,0)\n",
    "    elif line_color == \"red\":\n",
    "        line_color = (0,0,255)\n",
    "    elif line_color == \"blue\":\n",
    "        line_color = (255,0,0)\n",
    "    \n",
    "    #grab width and height of img\n",
    "    height, width = image.shape[:2] #get 0 and 1\n",
    "    #number of pixels per patch\n",
    "    M, N = height // num_vertical_grid, width // num_horizontal_grid\n",
    "\n",
    "    for y in range (0,height, M):\n",
    "        for x in range (0,width,N):\n",
    "            x1 = x+N\n",
    "            y1 = y+M\n",
    "        \n",
    "            if x1>=width and y1>=height:\n",
    "                x1 = width-1\n",
    "                y1= height-1\n",
    "                cv.rectangle(img_copy, (x,y), (x1,y1), line_color,1)\n",
    "            \n",
    "            elif x1>=width:\n",
    "                x1 = width-1\n",
    "                cv.rectangle(img_copy, (x,y), (x1,y1), line_color,1)\n",
    "            \n",
    "            elif y1>=height:\n",
    "                y1= height-1\n",
    "                cv.rectangle(img_copy, (x,y), (x1,y1), line_color,1)\n",
    "        \n",
    "            else:\n",
    "                cv.rectangle(img_copy, (x,y), (x1,y1), line_color,1)\n",
    "            \n",
    "    display_image(\"patch\", img_copy)"
   ]
  },
  {
   "cell_type": "code",
   "execution_count": 69,
   "id": "e5d657d7-77f2-4b94-8dcb-686926378db8",
   "metadata": {},
   "outputs": [],
   "source": [
    "img = \"images/dog.jfif\"\n",
    "num_horizontal_grid = 3 \n",
    "num_vertical_grid = 3\n",
    "line_color = \"blue\"\n",
    "crop_grid(img, num_horizontal_grid, num_vertical_grid, line_color)\n"
   ]
  },
  {
   "cell_type": "markdown",
   "id": "4c04bba3-0ecd-41e5-b346-2e1d25527fd7",
   "metadata": {},
   "source": [
    "3. How would you *change the brightness* of a **color image**? Suggest **two ways** to perform the image processing operations. Implement your methods by providing the example codes. You are free to choose any image."
   ]
  },
  {
   "cell_type": "markdown",
   "id": "7bb17a4c-342f-4f84-a44c-f31a358f80c3",
   "metadata": {},
   "source": [
    "### Method1: convertScaleAbs function"
   ]
  },
  {
   "cell_type": "code",
   "execution_count": 70,
   "id": "4a1cee3e-3327-432b-bf45-98e2e9d62f20",
   "metadata": {},
   "outputs": [],
   "source": [
    "img = cv.imread(\"images/dog.jfif\")\n",
    "\n",
    "alp = 1.5\n",
    "bet = 50\n",
    "res = cv.convertScaleAbs(img, alpha=alp, beta=bet)\n",
    "display_images([img, res], (\"original\", f\"alpha={alpha}, beta={beta}\"))"
   ]
  },
  {
   "cell_type": "markdown",
   "id": "f5e48146-bf6b-4b2b-8c1f-2f20f8c07c1f",
   "metadata": {},
   "source": [
    "### Method2: Changing HSV's V"
   ]
  },
  {
   "cell_type": "code",
   "execution_count": 73,
   "id": "51c183ac-c07b-49b1-8b1b-750f731d2c34",
   "metadata": {},
   "outputs": [],
   "source": [
    "img_hsv = cv.cvtColor(img, cv.COLOR_BGR2HSV)\n",
    "#saturation \n",
    "h, s, v = cv.split(img_hsv)\n",
    "\n",
    "#change s channel to [0,255]\n",
    "new_value = 200\n",
    "v_new = np.zeros_like(v) + new_value\n",
    "v_new = np.uint8(v_new)\n",
    "\n",
    "#merge channels\n",
    "transform = cv.merge((h, s, v_new))\n",
    "transform_display = cv.cvtColor(transform, cv.COLOR_HSV2BGR)\n",
    "display_images([img, transform_display], (\"original\", f\"value={new_value}\"))"
   ]
  },
  {
   "cell_type": "markdown",
   "id": "7dab1779-64c7-4c3c-9942-0fe63803b8f7",
   "metadata": {},
   "source": [
    "4. Provide at least one common use cases for the following color spaces:\n",
    "    - RGB\n",
    "    - HSV\n",
    "    - CIELAB"
   ]
  },
  {
   "cell_type": "markdown",
   "id": "1a12089a-b0fb-4291-81df-858096d9bd08",
   "metadata": {},
   "source": [
    "1. RGB\n",
    "   * Display devices (e.g. Monitors, TV, mobile devices)\n",
    "   * Web design and development\n",
    "\n",
    "2. HSV\n",
    "    * Color picking and selection (graphics and game development)\n",
    "    * Fashion and design (select and modify colors for fabrics, textiles, and materials)\n",
    "\n",
    "3. CIELAB\n",
    "    * Printing and Publishing (e.g. paper, ink cuz accurate representation)\n",
    "    * Color matching (e.g. color reproduction, paint mixing)"
   ]
  }
 ],
 "metadata": {
  "kernelspec": {
   "display_name": "Python 3 (ipykernel)",
   "language": "python",
   "name": "python3"
  },
  "language_info": {
   "codemirror_mode": {
    "name": "ipython",
    "version": 3
   },
   "file_extension": ".py",
   "mimetype": "text/x-python",
   "name": "python",
   "nbconvert_exporter": "python",
   "pygments_lexer": "ipython3",
   "version": "3.12.4"
  }
 },
 "nbformat": 4,
 "nbformat_minor": 5
}
