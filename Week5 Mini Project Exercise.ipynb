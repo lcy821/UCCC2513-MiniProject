{
 "cells": [
  {
   "cell_type": "code",
   "execution_count": 2,
   "id": "9a25a9b7-a459-402d-9bee-4d96ed2b752f",
   "metadata": {},
   "outputs": [],
   "source": [
    "import cv2 as cv"
   ]
  },
  {
   "cell_type": "markdown",
   "id": "8a064c98-48cf-4313-ae26-b53151d32838",
   "metadata": {},
   "source": [
    "1. Rotate image by 45 degrees without cropping the sides of the image. (Hint: There are 2 strategies to tackle these problems). Use \"lena.jfif\" as the input image.\n",
    "* Use external libraries imutils.\n",
    "* Modify the transformation matrix."
   ]
  },
  {
   "cell_type": "markdown",
   "id": "447718c6-a975-47d9-9ebe-21dc8c5818a1",
   "metadata": {},
   "source": [
    "### First Method"
   ]
  },
  {
   "cell_type": "code",
   "execution_count": 125,
   "id": "2c31d78e-c6f6-439b-b194-10cc9550ccdf",
   "metadata": {},
   "outputs": [],
   "source": [
    "img = cv.imread(\"images/lena.jfif\")\n",
    "\n",
    "rows, cols = img.shape[:2]\n",
    "angle = 45\n",
    "scale = 1\n",
    "center = (rows//2, cols//2)\n",
    "\n",
    "M = cv.getRotationMatrix2D(center, angle, scale)\n",
    "rotate = cv.warpAffine(img, M, (cols,rows))\n",
    "\n",
    "cv.imshow(\"Rotated image\", rotate)\n",
    "cv.waitKey(0)\n",
    "cv.destroyAllWindows()"
   ]
  },
  {
   "cell_type": "markdown",
   "id": "23460fea-e469-44c1-a5b0-ddc13b668e04",
   "metadata": {},
   "source": [
    "### Second Method"
   ]
  },
  {
   "cell_type": "code",
   "execution_count": 10,
   "id": "f021379d-2047-416b-aad9-d3569524ed36",
   "metadata": {},
   "outputs": [
    {
     "name": "stdout",
     "output_type": "stream",
     "text": [
      "Defaulting to user installation because normal site-packages is not writeable\n",
      "Collecting imutils\n",
      "  Downloading imutils-0.5.4.tar.gz (17 kB)\n",
      "  Preparing metadata (setup.py): started\n",
      "  Preparing metadata (setup.py): finished with status 'done'\n",
      "Building wheels for collected packages: imutils\n",
      "  Building wheel for imutils (setup.py): started\n",
      "  Building wheel for imutils (setup.py): finished with status 'done'\n",
      "  Created wheel for imutils: filename=imutils-0.5.4-py3-none-any.whl size=25857 sha256=6479047521f5f9830919fb28fb7718ef0413ac8c54bed312086c5f8bbc8aa730\n",
      "  Stored in directory: c:\\users\\admin\\appdata\\local\\pip\\cache\\wheels\\5b\\76\\96\\ad0c321506837bef578cf3008df3916c23018435a355d9f6b1\n",
      "Successfully built imutils\n",
      "Installing collected packages: imutils\n",
      "Successfully installed imutils-0.5.4\n"
     ]
    },
    {
     "name": "stderr",
     "output_type": "stream",
     "text": [
      "\n",
      "[notice] A new release of pip is available: 24.1.1 -> 24.1.2\n",
      "[notice] To update, run: python.exe -m pip install --upgrade pip\n"
     ]
    }
   ],
   "source": [
    "!pip install imutils"
   ]
  },
  {
   "cell_type": "code",
   "execution_count": 126,
   "id": "eac7fb23-67db-4b6e-a035-1af424cc579e",
   "metadata": {},
   "outputs": [],
   "source": [
    "import imutils\n",
    "rotate = imutils.rotate(img, 45)\n",
    "\n",
    "cv.imshow(\"Rotated image\", rotate)\n",
    "cv.waitKey(0)\n",
    "cv.destroyAllWindows()"
   ]
  },
  {
   "cell_type": "markdown",
   "id": "7cdf103f-2d2b-48d9-bdd6-b006c59d4953",
   "metadata": {},
   "source": [
    "2. Use the images with titles: _\"flower.jfif\"_ and _\"native-bee.png\"_. I want to put flower above an image. If I add two images, it will change color. If I blend it, I get a transparent effect. But I want it to be opaque. If it was a rectangular region, we could use the ROI as we did in the previous section. But flower is not a rectangular region. This is where bitwise operations, like AND, OR, NOT and XOR really come in handy. The associated functions are `cv.bitwise_and()`, `cv.bitwise_or()` and `cv.bitwise_not()`. You need to use `cv.threshold` function to segment the flower. Please refer to [online documentation](https://docs.opencv.org/4.x/d0/d86/tutorial_py_image_arithmetics.html) for more info. The result should resemble the following:  \n",
    "![bee and flowers](img_embed/activity3.PNG \"bee_flower\")"
   ]
  },
  {
   "cell_type": "code",
   "execution_count": 128,
   "id": "b679ecdb-1208-4b1f-94d1-304a06c07da2",
   "metadata": {},
   "outputs": [],
   "source": [
    "flower = cv.imread(\"images/flower.jfif\")\n",
    "bee = cv.imread(\"images/native-bee.png\")\n",
    "\n",
    "assert flower is not None, \"file could not be read, check with os.path.exists()\"\n",
    "assert bee is not None, \"file could not be read, check with os.path.exists()\"\n",
    "\n",
    "rows, cols, channels = flower.shape\n",
    "roi = bee[0:rows, 0:cols]\n",
    "\n",
    "#create mask\n",
    "flower_gray = cv.cvtColor(flower, cv.COLOR_BGR2GRAY)\n",
    "ret, mask = cv.threshold(flower_gray, 70, 255, cv.THRESH_BINARY)\n",
    "mask_inv = cv.bitwise_not(mask)\n",
    "\n",
    "bee_bg = cv.bitwise_and(roi,roi,mask=mask_inv)\n",
    "flower_fg = cv.bitwise_and(flower,flower,mask=mask)\n",
    "\n",
    "dst = cv.add(bee_bg, flower_fg)\n",
    "bee[0:rows, 0:cols ] = dst\n",
    "\n",
    "cv.imshow(\"flower_bee\",bee)\n",
    "cv.waitKey(0)\n",
    "cv.destroyAllWindows()"
   ]
  },
  {
   "cell_type": "markdown",
   "id": "d5fccbac-37e6-4f58-88e2-c7653ca184e8",
   "metadata": {},
   "source": [
    "3. Write a function that randomly crop the central region of an image. The method signature should be as shown in the following:\n",
    "\n",
    "random_center_crop(image, min_crop_ratio, max_crop_ratio)"
   ]
  },
  {
   "cell_type": "code",
   "execution_count": 129,
   "id": "fbdaece6-4f5f-49b6-8621-7a347a0c98fd",
   "metadata": {},
   "outputs": [],
   "source": [
    "def random_center_crop(image, min_crop_ratio, max_crop_ratio):\n",
    "    \n",
    "    if min_crop_ratio < 0.0 or min_crop_ratio > 1.0:\n",
    "        raise ValueError(\"min_crop_ratio should be between 0.0 and 1.0\")\n",
    "    if max_crop_ratio < 0.0 or max_crop_ratio > 1.0:\n",
    "        raise ValueError(\"max_crop_ratio should be between 0.0 and 1.0\")\n",
    "    if min_crop_ratio > max_crop_ratio:\n",
    "        raise ValueError(\"min_crop_ratio should not be greater than max_crop_ratio\")\n",
    "\n",
    "    #Get image dimensions\n",
    "    height, width = image.shape[:2]\n",
    "\n",
    "    #Calculate crop sizes based on ratios\n",
    "    min_crop_size = int(min(height, width) * min_crop_ratio)\n",
    "    max_crop_size = int(min(height, width) * max_crop_ratio)\n",
    "    \n",
    "    #Randomly select crop size\n",
    "    crop_size = np.random.randint(min_crop_size, max_crop_size + 1)\n",
    "\n",
    "    #Calculate crop region\n",
    "    start_x = max(0, (width - crop_size) // 2)\n",
    "    start_y = max(0, (height - crop_size) // 2)\n",
    "    end_x = start_x + crop_size\n",
    "    end_y = start_y + crop_size\n",
    "\n",
    "    #Perform crop\n",
    "    cropped_image = image[start_y:end_y, start_x:end_x]\n",
    "\n",
    "    return cropped_image"
   ]
  },
  {
   "cell_type": "code",
   "execution_count": 130,
   "id": "20b2d6e9-31be-424c-a5c5-b08ce07960b4",
   "metadata": {},
   "outputs": [],
   "source": [
    "img = cv.imread(\"images/camera.jpg\")\n",
    "cropped = random_center_crop(img, 0.5, 0.7)\n",
    "cv.imshow(\"cropped\", cropped)\n",
    "cv.waitKey(0)\n",
    "cv.destroyAllWindows()"
   ]
  },
  {
   "cell_type": "markdown",
   "id": "2239b2ee-b75b-4f1d-bfdf-a56e1c8a5f3c",
   "metadata": {},
   "source": [
    "4. Aside from Gaussian noise, name another common type of noise. Write the code to demonstrate how the noise can be included in an image.\n"
   ]
  },
  {
   "cell_type": "markdown",
   "id": "1f70bb95-5229-4010-867b-cf77e3c7ef84",
   "metadata": {},
   "source": [
    "Salt and Pepper Noise (only for grayscale image)"
   ]
  },
  {
   "cell_type": "code",
   "execution_count": 122,
   "id": "4659df46-9bc8-4e8a-86a1-b8f2af789527",
   "metadata": {},
   "outputs": [],
   "source": [
    "import random"
   ]
  },
  {
   "cell_type": "code",
   "execution_count": 131,
   "id": "f5dcdbdf-a285-41a4-96c8-aa377dd3efb9",
   "metadata": {},
   "outputs": [],
   "source": [
    "def saltAndPepper(img):\n",
    "    row, col = img.shape #height, width\n",
    "\n",
    "    # Randomly pick some pixels in the image for coloring them  \n",
    "    number_of_pixels = random.randint(300, 10000) \n",
    "    for i in range(number_of_pixels):\n",
    "        y = random.randint(0,row-1)\n",
    "        x = random.randint(0,col-1)\n",
    "        img[y][x] = 255\n",
    "\n",
    "    # Randomly pick some pixels in the image for coloring them  \n",
    "    number_of_pixels = random.randint(300, 10000) \n",
    "    for i in range(number_of_pixels):\n",
    "        y = random.randint(0,row-1)\n",
    "        x = random.randint(0,col-1)\n",
    "        img[y][x] = 0\n",
    "\n",
    "    return img\n",
    "\n"
   ]
  },
  {
   "cell_type": "code",
   "execution_count": 132,
   "id": "4047055a-375b-46d4-b9c9-0737dabe9eb2",
   "metadata": {},
   "outputs": [],
   "source": [
    "img = cv.imread(\"images/camera.jpg\", cv.IMREAD_GRAYSCALE)\n",
    "cv.imshow(\"Noise added\", saltAndPepper(img))\n",
    "cv.waitKey(0)\n",
    "cv.destroyAllWindows()"
   ]
  },
  {
   "cell_type": "code",
   "execution_count": null,
   "id": "ccf4ae94-3211-42cc-a379-2fa02d05bea9",
   "metadata": {},
   "outputs": [],
   "source": []
  }
 ],
 "metadata": {
  "kernelspec": {
   "display_name": "Python 3 (ipykernel)",
   "language": "python",
   "name": "python3"
  },
  "language_info": {
   "codemirror_mode": {
    "name": "ipython",
    "version": 3
   },
   "file_extension": ".py",
   "mimetype": "text/x-python",
   "name": "python",
   "nbconvert_exporter": "python",
   "pygments_lexer": "ipython3",
   "version": "3.12.4"
  }
 },
 "nbformat": 4,
 "nbformat_minor": 5
}
