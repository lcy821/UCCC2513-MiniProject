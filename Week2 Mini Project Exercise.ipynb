{
 "cells": [
  {
   "cell_type": "markdown",
   "id": "f5ec78b4",
   "metadata": {},
   "source": [
    "Exercises"
   ]
  },
  {
   "cell_type": "markdown",
   "id": "c60d4cae",
   "metadata": {},
   "source": [
    "1. Find the range of values for each of the following data types:\n",
    "-  uint8\n",
    "-  int8\n",
    "-  uint32\n",
    "-  int32"
   ]
  },
  {
   "cell_type": "code",
   "execution_count": 1,
   "id": "7a45e4bd",
   "metadata": {},
   "outputs": [
    {
     "name": "stdout",
     "output_type": "stream",
     "text": [
      "uint8 range is from 0 to 255.\n",
      "int8 range is from -128 to 127.\n",
      "uint32 range is from 0 to 4,294,967,295.\n",
      "int32 range is from -2,147,483,648 to 2,147,483,647.\n"
     ]
    }
   ],
   "source": [
    "import numpy as np\n",
    "\n",
    "#uint8\n",
    "unit8Min = np.iinfo(np.uint8).min\n",
    "unit8Max = np.iinfo(np.uint8).max\n",
    "\n",
    "print(f\"uint8 range is from {unit8Min:d} to {unit8Max:d}.\")\n",
    "\n",
    "#int8\n",
    "int8Min = np.iinfo(np.int8).min\n",
    "int8Max = np.iinfo(np.int8).max\n",
    "\n",
    "print(f\"int8 range is from {int8Min:d} to {int8Max:d}.\")\n",
    "\n",
    "#uint32\n",
    "uint32Min = np.iinfo(np.uint32).min\n",
    "uint32Max = format(np.iinfo(np.uint32).max, \",\")\n",
    "\n",
    "print(f\"uint32 range is from {uint32Min:d} to {uint32Max}.\")\n",
    "\n",
    "#int32\n",
    "int32Min = format(np.iinfo(np.int32).min, \",\")\n",
    "int32Max = format(np.iinfo(np.int32).max, \",\")\n",
    "\n",
    "print(f\"int32 range is from {int32Min} to {int32Max}.\")\n"
   ]
  },
  {
   "cell_type": "markdown",
   "id": "959957f5",
   "metadata": {},
   "source": [
    "2.Try to write a simple custom function to determine whether a given integer is odd or even number."
   ]
  },
  {
   "cell_type": "code",
   "execution_count": 2,
   "id": "6a175210",
   "metadata": {},
   "outputs": [
    {
     "name": "stdout",
     "output_type": "stream",
     "text": [
      "0  is an even number.\n",
      "111  is an odd number.\n",
      "1.1  is not an integer.\n"
     ]
    }
   ],
   "source": [
    "def oddEven(value):\n",
    "    \"\"\"Function to check whether value is an odd or even integer.\n",
    "        Arguments:\n",
    "        ---\n",
    "        x: must be integer\n",
    "    \n",
    "        Return:\n",
    "        ---\n",
    "        statement to show whether x is an odd or even integer\n",
    "\n",
    "    \"\"\"\n",
    "    \n",
    "    # set up a if control flow\n",
    "    if isinstance(value, int):\n",
    "        if value %2 == 0:\n",
    "            print(value, \" is an even number.\")\n",
    "        else:\n",
    "            print(value, \" is an odd number.\")\n",
    "    else:\n",
    "        print(value, \" is not an integer.\")\n",
    "        \n",
    "#test case for even number\n",
    "oddEven(0)\n",
    "\n",
    "#test case for odd number\n",
    "oddEven(111)\n",
    "\n",
    "#test case for non integer\n",
    "oddEven(1.1)"
   ]
  },
  {
   "cell_type": "markdown",
   "id": "106be88d",
   "metadata": {},
   "source": [
    "3.Write a simple example code to show that Numpy is more efficient in numerical computation of large arrays of data than equivalent Python list."
   ]
  },
  {
   "cell_type": "markdown",
   "id": "ee03d64a",
   "metadata": {},
   "source": [
    "Difference of numpy array(faster+store homogenous data_if is int32, then all is int 32) and python list(heterogenous data)"
   ]
  },
  {
   "cell_type": "code",
   "execution_count": 3,
   "id": "2e217823",
   "metadata": {},
   "outputs": [
    {
     "name": "stdout",
     "output_type": "stream",
     "text": [
      "Time taken by numpy array to perform multiplication: 0.003465890884399414 seconds.\n",
      "Time taken by python list to perform multiplication: 0.22947120666503906 seconds.\n",
      "Numpy Array is more efficient in numerical computation of large arrays.\n"
     ]
    }
   ],
   "source": [
    "import time\n",
    "\n",
    "#define array size\n",
    "SIZE = 1000000\n",
    "\n",
    "#declare numpy array\n",
    "numpyArr1 = np.arange(SIZE)\n",
    "numpyArr2 = np.arange(SIZE)\n",
    "\n",
    "#declare python list\n",
    "pythonList1 = range(SIZE)\n",
    "pythonList2 = range(SIZE)\n",
    "\n",
    "#capture time before multiplying numpy array\n",
    "numpyInitialTime = time.time()\n",
    "\n",
    "#multiply numpy array and store in a variable\n",
    "resultNumpyArr = numpyArr1 * numpyArr2\n",
    "\n",
    "# Calculate time taken for multiplying numpy array\n",
    "numpyElapsedTime = time.time() - numpyInitialTime\n",
    "print(\"Time taken by numpy array to perform multiplication:\", numpyElapsedTime, \"seconds.\")\n",
    "\n",
    "#capture time before multiplying python list\n",
    "listInitialTime = time.time()\n",
    "\n",
    "#multiply python list and store in a variable\n",
    "resultPythonList = [(l1 * l2) for l1,l2 in zip(pythonList1, pythonList2)]\n",
    "\n",
    "# Calculate time taken for multiplying python list\n",
    "listElapsedTime = time.time() - listInitialTime\n",
    "print(\"Time taken by python list to perform multiplication:\", listElapsedTime, \"seconds.\")\n",
    "\n",
    "if(numpyElapsedTime < listElapsedTime):\n",
    "    print(\"Numpy Array is more efficient in numerical computation of large arrays.\")\n",
    "else: \n",
    "    print(\"Python List is more efficient in numerical computation of large arrays.\")"
   ]
  },
  {
   "cell_type": "markdown",
   "id": "2ce71ee5",
   "metadata": {},
   "source": [
    "4.Run the following codes:\n",
    "    # create a 1D array\n",
    "    my_arr = np.arange(10)\n",
    "    print(\"Initial my_arr: \", my_arr)\n",
    "    arr_slice = my_arr\n",
    "    print(\"Initial arr_slice: \", arr_slice)\n",
    "\n",
    "    # change the first element of arr_slice\n",
    "    arr_slice[0] = 55\n",
    "\n",
    "    print(\"my_arr: \", my_arr)\n",
    "    print(\"arr_slice: \", arr_slice)\n",
    "What do you notice? Propose a way to reassign arr_slice with new value without modifying my_arr."
   ]
  },
  {
   "cell_type": "code",
   "execution_count": 4,
   "id": "6bd305b0",
   "metadata": {},
   "outputs": [
    {
     "name": "stdout",
     "output_type": "stream",
     "text": [
      "Initial my_arr:  [0 1 2 3 4 5 6 7 8 9]\n",
      "Initial arr_slice:  [0 1 2 3 4 5 6 7 8 9]\n",
      "my_arr:  [55  1  2  3  4  5  6  7  8  9]\n",
      "arr_slice:  [55  1  2  3  4  5  6  7  8  9]\n"
     ]
    }
   ],
   "source": [
    "#for running purpose\n",
    "\n",
    "# create a 1D array\n",
    "my_arr = np.arange(10)\n",
    "print(\"Initial my_arr: \", my_arr)\n",
    "\n",
    "arr_slice = my_arr\n",
    "print(\"Initial arr_slice: \", arr_slice)\n",
    "\n",
    "# change the first element of arr_slice\n",
    "arr_slice[0] = 55\n",
    "\n",
    "print(\"my_arr: \", my_arr)\n",
    "print(\"arr_slice: \", arr_slice)"
   ]
  },
  {
   "cell_type": "code",
   "execution_count": 8,
   "id": "bd18f1cc",
   "metadata": {},
   "outputs": [
    {
     "name": "stdout",
     "output_type": "stream",
     "text": [
      "Initial my_arr:  [0 1 2 3 4 5 6 7 8 9]\n",
      "Initial arr_slice:  [0 1 2 3 4 5 6 7 8 9]\n",
      "my_arr:  [0 1 2 3 4 5 6 7 8 9]\n",
      "arr_slice:  [55  1  2  3  4  5  6  7  8  9]\n"
     ]
    }
   ],
   "source": [
    "#Answer\n",
    "\n",
    "#Notice when modifying the first element of arr_slice also affects my_arr as they refer to the same object.\n",
    "\n",
    "# create a 1D array\n",
    "my_arr = np.arange(10)\n",
    "print(\"Initial my_arr: \", my_arr)\n",
    "\n",
    "#alternative way\n",
    "#arr_slice = [x for x in my_arr]\n",
    "arr_slice = my_arr.copy()\n",
    "print(\"Initial arr_slice: \", arr_slice)\n",
    "\n",
    "# change the first element of arr_slice\n",
    "arr_slice[0] = 55\n",
    "\n",
    "print(\"my_arr: \", my_arr)\n",
    "print(\"arr_slice: \", arr_slice)"
   ]
  },
  {
   "cell_type": "markdown",
   "id": "fb8e6872",
   "metadata": {},
   "source": [
    "5.Create an image as shown as the following with the help of Numpy and matplotlib modules. You can arbitrarily set the dimension of the image and white circular spot at the middle."
   ]
  },
  {
   "cell_type": "code",
   "execution_count": 18,
   "id": "40b36504",
   "metadata": {
    "scrolled": true
   },
   "outputs": [
    {
     "data": {
      "image/png": "[encoded data removed]",
      "text/plain": [
       "<Figure size 400x350 with 1 Axes>"
      ]
     },
     "metadata": {},
     "output_type": "display_data"
    }
   ],
   "source": [
    "import matplotlib.pyplot as plt\n",
    "\n",
    "def createImage(radius, dim=None):\n",
    "    if (dim == None):\n",
    "        dim = (radius*15, radius*15)\n",
    "    \n",
    "    #create a zero matrix as background\n",
    "    circle = np.zeros(dim)\n",
    "    \n",
    "    #create coordinate grids x and y\n",
    "    x, y = np.meshgrid(np.arange(dim[0]), np.arange(dim[1]))\n",
    "    \n",
    "    #center\n",
    "    centerX = dim[0]/2\n",
    "    centerY = dim[1]/2\n",
    "    \n",
    "    #calculate the distance from the center\n",
    "    d = np.sqrt((x - centerX)**2 + (y - centerY)**2)\n",
    "    \n",
    "    # Create a mask where the distance is less than or equal to the radius\n",
    "    white = d <= radius\n",
    "    \n",
    "    circle[white] = 1\n",
    "    \n",
    "    return circle\n",
    "\n",
    "#test case for radius 15\n",
    "image = createImage(15)\n",
    "\n",
    "plt.figure(figsize=(4, 3.5))\n",
    "\n",
    "plt.imshow(image, cmap='gray')\n",
    "plt.show()"
   ]
  },
  {
   "cell_type": "code",
   "execution_count": null,
   "id": "65974b48",
   "metadata": {},
   "outputs": [],
   "source": []
  }
 ],
 "metadata": {
  "kernelspec": {
   "display_name": "Python 3 (ipykernel)",
   "language": "python",
   "name": "python3"
  },
  "language_info": {
   "codemirror_mode": {
    "name": "ipython",
    "version": 3
   },
   "file_extension": ".py",
   "mimetype": "text/x-python",
   "name": "python",
   "nbconvert_exporter": "python",
   "pygments_lexer": "ipython3",
   "version": "3.10.9"
  }
 },
 "nbformat": 4,
 "nbformat_minor": 5
}
